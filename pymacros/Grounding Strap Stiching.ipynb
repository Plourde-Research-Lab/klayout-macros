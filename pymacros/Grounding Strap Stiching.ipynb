{
 "cells": [
  {
   "cell_type": "code",
   "execution_count": 50,
   "metadata": {
    "collapsed": false
   },
   "outputs": [
    {
     "data": {
      "text/plain": [
       "true"
      ]
     },
     "execution_count": 50,
     "metadata": {},
     "output_type": "execute_result"
    }
   ],
   "source": [
    "require \"json\""
   ]
  },
  {
   "cell_type": "code",
   "execution_count": 38,
   "metadata": {
    "collapsed": false
   },
   "outputs": [
    {
     "data": {
      "text/plain": [
       ":to_s"
      ]
     },
     "execution_count": 38,
     "metadata": {},
     "output_type": "execute_result"
    }
   ],
   "source": [
    "class Point\n",
    "  def initialize(x, y)\n",
    "    @x = x\n",
    "    @y = y\n",
    "  end\n",
    "  \n",
    "  def x\n",
    "    @x\n",
    "  end\n",
    "  \n",
    "  def y\n",
    "    @y\n",
    "  end\n",
    "  \n",
    "  def to_s\n",
    "    \"(#@x,#@y)\"\n",
    "  end\n",
    "end"
   ]
  },
  {
   "cell_type": "code",
   "execution_count": 46,
   "metadata": {
    "collapsed": false
   },
   "outputs": [
    {
     "data": {
      "text/plain": [
       "[#<Point:0x007ff08c8da9a8 @x=0, @y=1>, #<Point:0x007ff08c8da980 @x=5, @y=4>, #<Point:0x007ff08c8da958 @x=2, @y=8>]"
      ]
     },
     "execution_count": 46,
     "metadata": {},
     "output_type": "execute_result"
    }
   ],
   "source": [
    "path = [Point.new(0,1), Point.new(5,4), Point.new(2,8)]"
   ]
  },
  {
   "cell_type": "code",
   "execution_count": 49,
   "metadata": {
    "collapsed": false
   },
   "outputs": [
    {
     "name": "stdout",
     "output_type": "stream",
     "text": [
      "3\n",
      "1 : -5\n",
      "2 : 3\n"
     ]
    },
    {
     "data": {
      "text/plain": [
       "1..2"
      ]
     },
     "execution_count": 49,
     "metadata": {},
     "output_type": "execute_result"
    }
   ],
   "source": [
    "def calculate_points(path)\n",
    "  puts path.length\n",
    "#   path.each do |p|\n",
    "#      puts p.to_s \n",
    "#   end\n",
    "  \n",
    "  for i in 1..(path.length-1)\n",
    "    puts \"#{i} : #{path[i-1].x - path[i].x}\"\n",
    "    \n",
    "  end\n",
    "end\n",
    "\n",
    "calculate_points(path)"
   ]
  },
  {
   "cell_type": "code",
   "execution_count": 52,
   "metadata": {
    "collapsed": false
   },
   "outputs": [
    {
     "data": {
      "text/plain": [
       "\"\\\"(0,0)\\\"\""
      ]
     },
     "execution_count": 52,
     "metadata": {},
     "output_type": "execute_result"
    }
   ],
   "source": [
    "x = Point.new(0,0).to_json"
   ]
  },
  {
   "cell_type": "code",
   "execution_count": 59,
   "metadata": {
    "collapsed": false
   },
   "outputs": [
    {
     "name": "stdout",
     "output_type": "stream",
     "text": [
      "[{\"x\":0,\"y\":1,\"label\":\"(0,1)\"},{\"x\":5,\"y\":4,\"label\":\"(5,4)\"},{\"x\":2,\"y\":8,\"label\":\"(2,8)\"}]\n"
     ]
    }
   ],
   "source": [
    "a = path.map{|pt| {x: pt.x, y: pt.y, label: pt.to_s}}\n",
    "puts a.to_json"
   ]
  },
  {
   "cell_type": "code",
   "execution_count": null,
   "metadata": {
    "collapsed": true
   },
   "outputs": [],
   "source": []
  }
 ],
 "metadata": {
  "kernelspec": {
   "display_name": "Ruby 2.2.2",
   "language": "ruby",
   "name": "ruby"
  },
  "language_info": {
   "file_extension": "rb",
   "mimetype": "application/x-ruby",
   "name": "ruby",
   "version": "2.2.2"
  }
 },
 "nbformat": 4,
 "nbformat_minor": 0
}
